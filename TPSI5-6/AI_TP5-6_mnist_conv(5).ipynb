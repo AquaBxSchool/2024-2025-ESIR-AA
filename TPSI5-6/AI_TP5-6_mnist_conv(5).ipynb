{
 "cells": [
  {
   "cell_type": "markdown",
   "metadata": {},
   "source": [
    "## Exercise 1 : the MNIST dataset"
   ]
  },
  {
   "cell_type": "markdown",
   "metadata": {},
   "source": [
    "Documentation of Keras: https://keras.io/api/"
   ]
  },
  {
   "cell_type": "code",
   "execution_count": null,
   "metadata": {},
   "outputs": [],
   "source": [
    "import keras\n",
    "from keras.datasets import mnist\n",
    "from keras import backend as K\n",
    "from matplotlib import pyplot as plt"
   ]
  },
  {
   "cell_type": "code",
   "execution_count": null,
   "metadata": {},
   "outputs": [],
   "source": [
    "# load mnist dataset (available as a part of your Keras installation)\n",
    "#------\n",
    "# TO-DO\n",
    "#------"
   ]
  },
  {
   "cell_type": "code",
   "execution_count": null,
   "metadata": {},
   "outputs": [],
   "source": [
    "# display data shape and visualize some samples from the dataset\n",
    "#------\n",
    "# TO-DO\n",
    "#------"
   ]
  },
  {
   "cell_type": "code",
   "execution_count": null,
   "metadata": {},
   "outputs": [],
   "source": [
    "# input image dimensions\n",
    "img_rows, img_cols = 28, 28\n",
    "\n",
    "num_classes = 10\n",
    "batch_size = 128\n",
    "epochs = 12"
   ]
  },
  {
   "cell_type": "code",
   "execution_count": null,
   "metadata": {},
   "outputs": [],
   "source": [
    "# reshape the data arrays to have a single channel. default mode : channel_last\n",
    "if K.image_data_format() == 'channels_first':\n",
    "    x_train = x_train.reshape(x_train.shape[0], 1, img_rows, img_cols)\n",
    "    x_test = x_test.reshape(x_test.shape[0], 1, img_rows, img_cols)\n",
    "    input_shape = (1, img_rows, img_cols)\n",
    "else:\n",
    "    x_train = x_train.reshape(x_train.shape[0], img_rows, img_cols, 1)\n",
    "    x_test = x_test.reshape(x_test.shape[0], img_rows, img_cols, 1)\n",
    "    input_shape = (img_rows, img_cols, 1)"
   ]
  },
  {
   "cell_type": "code",
   "execution_count": null,
   "metadata": {},
   "outputs": [],
   "source": [
    "# rescale the pixel values to the range [0,1]\n",
    "\n",
    "# i) convert the data type from unsigned integers to float32 \n",
    "#------\n",
    "# TO-DO\n",
    "#------\n",
    "\n",
    "# ii) divide the pixel values by the max intensity value\n",
    "#------\n",
    "# TO-DO\n",
    "#------"
   ]
  },
  {
   "cell_type": "code",
   "execution_count": null,
   "metadata": {},
   "outputs": [],
   "source": [
    "# convert class vectors to binary class matrices using keras.utils.to_categorical\n",
    "#------\n",
    "# TO-DO\n",
    "#------"
   ]
  },
  {
   "cell_type": "code",
   "execution_count": null,
   "metadata": {
    "scrolled": true
   },
   "outputs": [],
   "source": [
    "# a baseline CNN\n",
    "from keras.models import Sequential\n",
    "from keras.layers import Dense, Dropout, Flatten\n",
    "from keras.layers import Conv2D\n",
    "from keras.layers import MaxPooling2D\n",
    "\n",
    "model = Sequential()\n",
    "model.add(Conv2D(32, kernel_size=(3, 3),\n",
    "                 activation='relu',\n",
    "                 input_shape=input_shape))\n",
    "model.add(Conv2D(64, (3, 3), activation='relu'))\n",
    "model.add(MaxPooling2D(pool_size=(2, 2)))\n",
    "model.add(Dropout(0.25))\n",
    "model.add(Flatten())\n",
    "model.add(Dense(128, activation='relu'))\n",
    "model.add(Dropout(0.5))\n",
    "model.add(Dense(num_classes, activation='softmax'))\n",
    "\n",
    "model.summary()"
   ]
  },
  {
   "cell_type": "code",
   "execution_count": null,
   "metadata": {},
   "outputs": [],
   "source": [
    "# compile the model using model.compile() with loss : categorical crossentropy, optimizer : adadelta, metrics : accuracy\n",
    "#------\n",
    "# TO-DO\n",
    "#------\n",
    "\n",
    "# fit model using model.fit() using 20% of the dataset for validation\n",
    "#------\n",
    "# TO-DO\n",
    "#------\n",
    "\n",
    "# plot the learning curves\n",
    "#------\n",
    "# TO-DO\n",
    "#------\n",
    "\n",
    "# evaluate the model using model.evaluate()\n",
    "#------\n",
    "# TO-DO\n",
    "#------"
   ]
  },
  {
   "cell_type": "markdown",
   "metadata": {},
   "source": [
    "## Exercise 2 : dogs vs cats"
   ]
  },
  {
   "cell_type": "code",
   "execution_count": null,
   "metadata": {},
   "outputs": [],
   "source": [
    "import os\n",
    "from matplotlib.image import imread\n",
    "import random\n",
    "import numpy as np"
   ]
  },
  {
   "cell_type": "code",
   "execution_count": null,
   "metadata": {},
   "outputs": [],
   "source": [
    "# define location of dataset\n",
    "dataset = './#catsDogsSmall'\n",
    "\n",
    "# display some images of dogs and  cats\n",
    "#------\n",
    "# TO-DO\n",
    "#------"
   ]
  },
  {
   "cell_type": "code",
   "execution_count": null,
   "metadata": {},
   "outputs": [],
   "source": [
    "'''\n",
    "organize dataset into the following structure:\n",
    "\n",
    "dataset\n",
    "├── test\n",
    "│   ├── cats\n",
    "│   └── dogs\n",
    "└── train\n",
    "    ├── cats\n",
    "    └── dogs\n",
    "'''\n",
    "\n",
    "# define ratio of images to use for validation (test folder)\n",
    "val_ratio = 0.25\n",
    "\n",
    "# create sub directories\n",
    "#------\n",
    "# TO-DO\n",
    "#------\n",
    "\n",
    "# copy training dataset images into subdirectories\n",
    "#------\n",
    "# TO-DO\n",
    "#------"
   ]
  },
  {
   "cell_type": "code",
   "execution_count": null,
   "metadata": {},
   "outputs": [],
   "source": [
    "# define a cnn model\n",
    "\n",
    "def cnn_model():\n",
    "    \n",
    "    # model architecture\n",
    "    #------\n",
    "    # TO-DO\n",
    "    #------\n",
    "    \n",
    "    # compile model using model.compile() \n",
    "    #------\n",
    "    # TO-DO\n",
    "    #------\n",
    "    \n",
    "    return model"
   ]
  },
  {
   "cell_type": "code",
   "execution_count": null,
   "metadata": {},
   "outputs": [],
   "source": [
    "from keras.preprocessing.image import ImageDataGenerator\n",
    "\n",
    "# prepare the data for training the model\n",
    "img_height = 200\n",
    "img_width = 200\n",
    "batch_size = 64\n",
    "\n",
    "# the augmentation configuration for the training data\n",
    "train_datagen = ImageDataGenerator(rescale=1.0/255.0) # rescaling pixel values to 0-1\n",
    "\n",
    "# the augmentation configuration for the testing data\n",
    "test_datagen = ImageDataGenerator(rescale=1./255)\n",
    "\n",
    "# flow_from_directory() on each data generator to create an iterator for train and test data\n",
    "train_generator =  train_datagen.flow_from_directory(\n",
    "                  directory=dataset + r'/train/',\n",
    "                  target_size=(img_height, img_width), # resize to this size\n",
    "                  batch_size=batch_size, # number of images to extract from folder for every batch\n",
    "                  class_mode=\"binary\" # classes to predict\n",
    "                  )\n",
    "\n",
    "test_generator =  test_datagen.flow_from_directory(\n",
    "                  directory=dataset + r'/test/',\n",
    "                  target_size=(img_height, img_width), # resize to this size\n",
    "                  batch_size=batch_size, # number of images to extract from folder for every batch\n",
    "                  class_mode=\"binary\" # classes to predict\n",
    "                  )"
   ]
  },
  {
   "cell_type": "code",
   "execution_count": null,
   "metadata": {},
   "outputs": [],
   "source": [
    "# train model\n",
    "#------\n",
    "# TO-DO\n",
    "#------\n",
    "\n",
    "# plot the learning curves\n",
    "#------\n",
    "# TO-DO\n",
    "#------\n",
    "\n",
    "# evaluate the model\n",
    "#------\n",
    "# TO-DO\n",
    "#------"
   ]
  },
  {
   "cell_type": "code",
   "execution_count": null,
   "metadata": {},
   "outputs": [],
   "source": [
    "# EXERCISE 2.2.3\n",
    "\n",
    "# transfer learning using VGG16 model\n",
    "from keras.applications.vgg16 import VGG16\n",
    "from keras.layers import Dense\n",
    "from keras.layers import Flatten\n",
    "from keras.models import Model\n",
    "from keras.optimizers import SGD\n",
    "\n",
    "def transfer_model():\n",
    "    # load VGG16 model\n",
    "    model = VGG16(include_top=False, input_shape=(224, 224, 3))\n",
    "    # mark loaded layers as not trainable\n",
    "    for layer in model.layers:\n",
    "        layer.trainable = False\n",
    "    # add new classifier head\n",
    "    flat1 = Flatten()(model.layers[-1].output)\n",
    "    class1 = Dense(128, activation='relu', kernel_initializer='he_uniform')(flat1)\n",
    "    output = Dense(1, activation='sigmoid')(class1)\n",
    "    # define new model\n",
    "    model = Model(inputs=model.inputs, outputs=output)\n",
    "    # compile model\n",
    "    opt = SGD(lr=0.001, momentum=0.9)\n",
    "    model.compile(optimizer=opt, loss='binary_crossentropy', metrics=['accuracy'])\n",
    "    return model"
   ]
  },
  {
   "cell_type": "code",
   "execution_count": null,
   "metadata": {},
   "outputs": [],
   "source": [
    "from keras.applications.vgg16 import preprocess_input\n",
    "\n",
    "# preprocess data according to target model VGG16\n",
    "train_datagen = ImageDataGenerator(\n",
    "                preprocessing_function=preprocess_input\n",
    "                )\n",
    "\n",
    "#------\n",
    "# TO-DO\n",
    "#------"
   ]
  }
 ],
 "metadata": {
  "kernelspec": {
   "display_name": "Python 3",
   "language": "python",
   "name": "python3"
  },
  "language_info": {
   "codemirror_mode": {
    "name": "ipython",
    "version": 3
   },
   "file_extension": ".py",
   "mimetype": "text/x-python",
   "name": "python",
   "nbconvert_exporter": "python",
   "pygments_lexer": "ipython3",
   "version": "3.5.2"
  }
 },
 "nbformat": 4,
 "nbformat_minor": 4
}
